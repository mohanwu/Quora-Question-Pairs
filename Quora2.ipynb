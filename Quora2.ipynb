{
 "cells": [
  {
   "cell_type": "code",
   "execution_count": 1,
   "metadata": {
    "collapsed": false,
    "deletable": true,
    "editable": true
   },
   "outputs": [
    {
     "name": "stderr",
     "output_type": "stream",
     "text": [
      "C:\\Users\\Mohan\\Anaconda3\\lib\\site-packages\\sklearn\\cross_validation.py:44: DeprecationWarning: This module was deprecated in version 0.18 in favor of the model_selection module into which all the refactored classes and functions are moved. Also note that the interface of the new CV iterators are different from that of this module. This module will be removed in 0.20.\n",
      "  \"This module will be removed in 0.20.\", DeprecationWarning)\n",
      "C:\\Users\\Mohan\\Anaconda3\\lib\\site-packages\\fuzzywuzzy\\fuzz.py:35: UserWarning: Using slow pure-python SequenceMatcher. Install python-Levenshtein to remove this warning\n",
      "  warnings.warn('Using slow pure-python SequenceMatcher. Install python-Levenshtein to remove this warning')\n"
     ]
    }
   ],
   "source": [
    "import pandas as pd\n",
    "import numpy as np\n",
    "import nltk\n",
    "from collections import Counter\n",
    "from nltk.corpus import stopwords\n",
    "from sklearn.metrics import log_loss\n",
    "from sklearn.metrics import pairwise\n",
    "from scipy.spatial.distance import hamming\n",
    "from scipy.stats import entropy, pearsonr\n",
    "from sklearn.metrics import accuracy_score\n",
    "from sklearn.feature_extraction.text import TfidfVectorizer, CountVectorizer\n",
    "from scipy.optimize import minimize\n",
    "stops = set(stopwords.words(\"english\"))\n",
    "import xgboost as xgb\n",
    "from sklearn.cross_validation import train_test_split\n",
    "import multiprocessing\n",
    "import difflib\n",
    "from fuzzywuzzy import fuzz"
   ]
  },
  {
   "cell_type": "code",
   "execution_count": 3,
   "metadata": {
    "collapsed": false,
    "deletable": true,
    "editable": true
   },
   "outputs": [
    {
     "name": "stderr",
     "output_type": "stream",
     "text": [
      "C:\\Users\\Mohan\\Anaconda3\\lib\\site-packages\\IPython\\core\\interactiveshell.py:2717: DtypeWarning: Columns (0,15,16) have mixed types. Specify dtype option on import or set low_memory=False.\n",
      "  interactivity=interactivity, compiler=compiler, result=result)\n"
     ]
    }
   ],
   "source": [
    "#Import training, test\n",
    "import os\n",
    "os.chdir('C:/Users/Mohan/Downloads/Quora/')\n",
    "train = pd.read_csv('train.csv', encoding = \"ISO-8859-1\")[:10000]\n",
    "test = pd.read_csv('test.csv',encoding = \"ISO-8859-1\")[:10000]"
   ]
  },
  {
   "cell_type": "code",
   "execution_count": 4,
   "metadata": {
    "collapsed": false,
    "deletable": true,
    "editable": true
   },
   "outputs": [],
   "source": [
    "#Prep training, test data \n",
    "traindata = []\n",
    "traindata2 = []\n",
    "testdata = []\n",
    "testdata2 = []\n",
    "for i in range(0,len(train['question1'])):\n",
    "    traindata.append(\"\".join(train['question1'][i].lower()))\n",
    "for i in range(0,len(train['question2'])):\n",
    "    traindata2.append(\"\".join(train['question2'][i].lower()))\n",
    "for i in range(0,len(test['question1'])):\n",
    "    testdata.append(\"\".join(test['question1'][i].lower()))\n",
    "for i in range(0,len(test['question2'])):\n",
    "    testdata2.append(\"\".join(test['question2'][i].lower()))\n",
    "train['question1'] = traindata\n",
    "train['question2']= traindata2\n",
    "test['question1']=testdata\n",
    "test['question2']=testdata2"
   ]
  },
  {
   "cell_type": "code",
   "execution_count": 5,
   "metadata": {
    "collapsed": false,
    "deletable": true,
    "editable": true
   },
   "outputs": [
    {
     "data": {
      "text/plain": [
       "<4000x6135 sparse matrix of type '<class 'numpy.float64'>'\n",
       "\twith 20339 stored elements in Compressed Sparse Row format>"
      ]
     },
     "execution_count": 5,
     "metadata": {},
     "output_type": "execute_result"
    }
   ],
   "source": [
    "#TDIDF transform the question pairs\n",
    "tfidf = TfidfVectorizer(stop_words='english', ngram_range=(1, 1))\n",
    "tfidf_txt = pd.Series(train['question1'].tolist() + train['question2'].tolist() + test['question1'].tolist() + test['question2'].tolist()).astype(str)\n",
    "tfidf.fit_transform(tfidf_txt)\n"
   ]
  },
  {
   "cell_type": "code",
   "execution_count": 5,
   "metadata": {
    "collapsed": true,
    "deletable": true,
    "editable": true
   },
   "outputs": [],
   "source": [
    "#Check how similar the question pairs are\n",
    "def diff_ratios(st1, st2):\n",
    "    seq = difflib.SequenceMatcher()\n",
    "    seq.set_seqs(str(st1), str(st2))\n",
    "    return seq.ratio()\n",
    "\n",
    "#Check how many words are shared amongth each question\n",
    "def word_match_share(row):\n",
    "    q1words = {}\n",
    "    q2words = {}\n",
    "    for word in str(row['question1']).split():\n",
    "        if word not in stops:\n",
    "            q1words[word] = 1\n",
    "    for word in str(row['question2']).split():\n",
    "        if word not in stops:\n",
    "            q2words[word] = 1\n",
    "    if len(q1words) == 0 or len(q2words) == 0:\n",
    "        return 0\n",
    "    shared_words_in_q1 = [w for w in q1words.keys() if w in q2words]\n",
    "    shared_words_in_q2 = [w for w in q2words.keys() if w in q1words]\n",
    "    R = (len(shared_words_in_q1) + len(shared_words_in_q2))/(len(q1words) + len(q2words))\n",
    "    return R\n",
    "\n",
    "#Feature Engineer\n",
    "def get_features(df_features):\n",
    "    #Count number of nouns shared\n",
    "    print('nouns...')\n",
    "    df_features['question1_nouns'] = df_features.question1.map(lambda x: [w for w, t in nltk.pos_tag(nltk.word_tokenize(str(x))) if t[:1] in ['N']])\n",
    "    df_features['question2_nouns'] = df_features.question2.map(lambda x: [w for w, t in nltk.pos_tag(nltk.word_tokenize(str(x))) if t[:1] in ['N']])\n",
    "    df_features['feat_nounmatch'] = df_features.apply(lambda r: sum([1 for w in r.question1_nouns if w in r.question2_nouns]), axis=1) \n",
    "    \n",
    "    #Count number of verbs shared\n",
    "    print('verbs...')\n",
    "    df_features['question1_verbs'] = df_features.question1.map(lambda x: [w for w, t in nltk.pos_tag(nltk.word_tokenize(str(x))) if t[:1] in ['V']])\n",
    "    df_features['question2_verbs'] = df_features.question2.map(lambda x: [w for w, t in nltk.pos_tag(nltk.word_tokenize(str(x))) if t[:1] in ['V']])\n",
    "    df_features['feat_verbmatch'] = df_features.apply(lambda r: sum([1 for w in r.question1_verbs if w in r.question2_verbs]), axis=1) \n",
    "    \n",
    "    #Get string and word length\n",
    "    print('lengths...')\n",
    "    df_features['feat_len1'] = df_features.question1.map(lambda x: len(str(x)))\n",
    "    df_features['feat_len2'] = df_features.question2.map(lambda x: len(str(x)))\n",
    "    df_features['feat_word_len1'] = df_features.question1.map(lambda x: len(str(x).split()))\n",
    "    df_features['feat_word_len2'] = df_features.question2.map(lambda x: len(str(x).split()))\n",
    "    \n",
    "    #Apply diff_ratio\n",
    "    print('difflib...')\n",
    "    df_features['feat_match_ratio'] = df_features.apply(lambda r: diff_ratios(r.question1, r.question2), axis=1)  \n",
    "    \n",
    "    #Apply word match\n",
    "    print('word match...')\n",
    "    df_features['feat_word_match'] = df_features.apply(word_match_share, axis=1, raw=True)\n",
    "    \n",
    "    #Apply tdidf\n",
    "    print('tfidf...')\n",
    "    df_features['feat_tfidf_sum1'] = df_features.question1.map(lambda x: np.sum(tfidf.transform([str(x)]).data))\n",
    "    df_features['feat_tfidf_sum2'] = df_features.question2.map(lambda x: np.sum(tfidf.transform([str(x)]).data))\n",
    "    df_features['feat_tfidf_mean1'] = df_features.question1.map(lambda x: np.mean(tfidf.transform([str(x)]).data))\n",
    "    df_features['feat_tfidf_mean2'] = df_features.question2.map(lambda x: np.mean(tfidf.transform([str(x)]).data))\n",
    "    \n",
    "    #Get fuzzy similarities \n",
    "    print('fuzzy...')\n",
    "    df_features['feat_QRatio'] = df_features.apply(lambda x: fuzz.QRatio(str(x.question1), str(x.question2)),axis=1)\n",
    "    df_features['feat_WRatio'] = df_features.apply(lambda x: fuzz.WRatio(str(x.question1), str(x.question2)),axis=1)\n",
    "    df_features['feat_PRatio'] = df_features.apply(lambda x: fuzz.partial_ratio(str(x.question1), str(x.question2)), axis=1)\n",
    "    df_features['feat_PTRatio'] = df_features.apply(lambda x: fuzz.partial_token_set_ratio(str(x.question1), str(x.question2)), axis=1)\n",
    "    \n",
    "    #Get different distance metrics of the strings\n",
    "    print('similary...')\n",
    "    df_features['feat_tfidf_cos'] = df_features.apply(lambda x: pairwise.cosine_similarity(\n",
    "        tfidf.transform([str(x.question1)]), tfidf.transform([str(x.question2)]))[0,0], axis=1)\n",
    "    df_features['feat_tfidf_jac'] = df_features.apply(lambda x: 1 - hamming(\n",
    "        tfidf.transform([str(x.question1)]).toarray()[0], tfidf.transform([str(x.question2)]).toarray()[0]), axis=1)\n",
    "    df_features['feat_tfidf_kl'] = df_features.apply(lambda x: entropy(\n",
    "        tfidf.transform([str(x.question1)]).toarray()[0] + 1e-10, \n",
    "        tfidf.transform([str(x.question2)]).toarray()[0]+ 1e-10), axis=1)\n",
    "    df_features['feat_tfidf_pr'] = df_features.apply(lambda x: pearsonr(\n",
    "        tfidf.transform([str(x.question1)]).toarray()[0], \n",
    "        tfidf.transform([str(x.question2)]).toarray()[0])[0], axis=1)\n",
    "    return df_features.fillna(0.0)\n"
   ]
  },
  {
   "cell_type": "code",
   "execution_count": 6,
   "metadata": {
    "collapsed": false,
    "deletable": true,
    "editable": true
   },
   "outputs": [
    {
     "name": "stdout",
     "output_type": "stream",
     "text": [
      "nouns...\n",
      "verbs...\n",
      "lengths...\n",
      "difflib...\n",
      "word match...\n",
      "tfidf...\n"
     ]
    },
    {
     "name": "stderr",
     "output_type": "stream",
     "text": [
      "C:\\Users\\Mohan\\Anaconda3\\lib\\site-packages\\numpy\\core\\fromnumeric.py:2889: RuntimeWarning: Mean of empty slice.\n",
      "  out=out, **kwargs)\n",
      "C:\\Users\\Mohan\\Anaconda3\\lib\\site-packages\\numpy\\core\\_methods.py:80: RuntimeWarning: invalid value encountered in double_scalars\n",
      "  ret = ret.dtype.type(ret / rcount)\n"
     ]
    },
    {
     "name": "stdout",
     "output_type": "stream",
     "text": [
      "fuzzy...\n",
      "similary...\n"
     ]
    },
    {
     "name": "stderr",
     "output_type": "stream",
     "text": [
      "C:\\Users\\Mohan\\Anaconda3\\lib\\site-packages\\scipy\\stats\\stats.py:3021: RuntimeWarning: invalid value encountered in double_scalars\n",
      "  r = r_num / r_den\n",
      "C:\\Users\\Mohan\\Anaconda3\\lib\\site-packages\\scipy\\stats\\stats.py:5277: RuntimeWarning: invalid value encountered in less\n",
      "  x = np.where(x < 1.0, x, 1.0)  # if x > 1 then return 1.0\n"
     ]
    }
   ],
   "source": [
    "train = get_features(train)"
   ]
  },
  {
   "cell_type": "code",
   "execution_count": 7,
   "metadata": {
    "collapsed": false,
    "deletable": true,
    "editable": true
   },
   "outputs": [
    {
     "name": "stdout",
     "output_type": "stream",
     "text": [
      "0.19107198022860675\n"
     ]
    }
   ],
   "source": [
    "col = [c for c in train.columns if c[:4]=='feat']\n",
    "\n",
    "#Training set and test set is imbalanced, so add more negative sample size to training set to offset\n",
    "pos_train = train[train['is_duplicate'] == 1]\n",
    "neg_train = train[train['is_duplicate'] == 0]\n",
    "p = 0.165\n",
    "scale = ((len(pos_train) / (len(pos_train) + len(neg_train))) / p) - 1\n",
    "while scale > 1:\n",
    "    neg_train = pd.concat([neg_train, neg_train])\n",
    "    scale -=1\n",
    "neg_train = pd.concat([neg_train, neg_train[:int(scale * len(neg_train))]])\n",
    "train = pd.concat([pos_train, neg_train])\n",
    "print(len(pos_train) / (len(pos_train) + len(neg_train)))"
   ]
  },
  {
   "cell_type": "code",
   "execution_count": 8,
   "metadata": {
    "collapsed": false,
    "deletable": true,
    "editable": true,
    "scrolled": true
   },
   "outputs": [
    {
     "name": "stdout",
     "output_type": "stream",
     "text": [
      "[0]\ttrain-logloss:0.682997\tvalid-logloss:0.683069\n",
      "Multiple eval metrics have been passed: 'valid-logloss' will be used for early stopping.\n",
      "\n",
      "Will train until valid-logloss hasn't improved in 50 rounds.\n",
      "[100]\ttrain-logloss:0.376205\tvalid-logloss:0.383059\n",
      "[200]\ttrain-logloss:0.338674\tvalid-logloss:0.351726\n",
      "[300]\ttrain-logloss:0.325583\tvalid-logloss:0.343659\n",
      "[400]\ttrain-logloss:0.314599\tvalid-logloss:0.338484\n"
     ]
    }
   ],
   "source": [
    "x_train, x_valid, y_train, y_valid = train_test_split(train[col], train['is_duplicate'], test_size=0.2, random_state=0)\n",
    "\n",
    "params = {}\n",
    "params[\"objective\"] = \"binary:logistic\"\n",
    "params['eval_metric'] = 'logloss'\n",
    "params[\"eta\"] = 0.02\n",
    "params[\"subsample\"] = 0.7\n",
    "params[\"min_child_weight\"] = 1\n",
    "params[\"colsample_bytree\"] = 0.7\n",
    "params[\"max_depth\"] = 4\n",
    "params[\"silent\"] = 1\n",
    "params[\"seed\"] = 1666\n",
    "\n",
    "d_train = xgb.DMatrix(x_train, label=y_train)\n",
    "d_valid = xgb.DMatrix(x_valid, label=y_valid)\n",
    "watchlist = [(d_train, 'train'), (d_valid, 'valid')]\n",
    "bst = xgb.train(params, d_train, 500, watchlist, early_stopping_rounds=50, verbose_eval=100)\n",
    "#print(log_loss(train.is_duplicate, bst.predict(xgb.DMatrix(train[col]))))"
   ]
  },
  {
   "cell_type": "code",
   "execution_count": null,
   "metadata": {
    "collapsed": false,
    "deletable": true,
    "editable": true
   },
   "outputs": [],
   "source": [
    "test = get_features(test)\n",
    "\n",
    "sub = pd.DataFrame()\n",
    "sub['test_id'] = test['test_id']\n",
    "sub['is_duplicate'] = bst.predict(xgb.DMatrix(test[col]))\n",
    "\n",
    "sub.to_csv('qsub1.csv', index=False)"
   ]
  },
  {
   "cell_type": "code",
   "execution_count": 9,
   "metadata": {
    "collapsed": false,
    "deletable": true,
    "editable": true
   },
   "outputs": [
    {
     "data": {
      "image/png": "[encoded data removed]",
      "text/plain": [
       "<matplotlib.figure.Figure at 0x1f9e30faf60>"
      ]
     },
     "metadata": {},
     "output_type": "display_data"
    }
   ],
   "source": [
    "from xgboost import plot_importance\n",
    "import matplotlib.pyplot as plt\n",
    "import seaborn as sns\n",
    "%matplotlib inline\n",
    "\n",
    "plt.rcParams['figure.figsize'] = (7.0, 7.0)\n",
    "xgb.plot_importance(bst); plt.show()"
   ]
  }
 ],
 "metadata": {
  "kernelspec": {
   "display_name": "Python 3",
   "language": "python",
   "name": "python3"
  },
  "language_info": {
   "codemirror_mode": {
    "name": "ipython",
    "version": 3
   },
   "file_extension": ".py",
   "mimetype": "text/x-python",
   "name": "python",
   "nbconvert_exporter": "python",
   "pygments_lexer": "ipython3",
   "version": "3.5.3"
  }
 },
 "nbformat": 4,
 "nbformat_minor": 2
}
